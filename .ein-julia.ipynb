{
 "cells": [
  {
   "cell_type": "code",
   "execution_count": null,
   "id": "db79e393",
   "metadata": {
    "collapsed": false
   },
   "outputs": [],
   "source": []
  }
 ],
 "metadata": {
  "kernelspec": {
   "argv": [
    "/usr/bin/julia",
    "-i",
    "--color=yes",
    "--project=@.",
    "/home/buddhilw/.julia/packages/IJulia/e8kqU/src/kernel.jl",
    "{connection_file}"
   ],
   "display_name": "Julia 1.6.1",
   "env": null,
   "interrupt_mode": "signal",
   "language": "julia",
   "metadata": null,
   "name": "julia-1.6"
  },
  "name": "Untitled.ipynb"
 },
 "nbformat": 4,
 "nbformat_minor": 5
}
