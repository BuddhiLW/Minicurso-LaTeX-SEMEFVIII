{
 "cells": [
  {
   "cell_type": "code",
   "execution_count": null,
   "id": "819e4a57",
   "metadata": {
    "collapsed": false
   },
   "outputs": [],
   "source": []
  }
 ],
 "metadata": {
  "kernelspec": {
   "argv": [
    "/usr/lib64/R/bin/R",
    "--slave",
    "-e",
    "IRkernel::main()",
    "--args",
    "{connection_file}"
   ],
   "display_name": "R",
   "env": null,
   "interrupt_mode": "signal",
   "language": "R",
   "metadata": null,
   "name": "ir"
  },
  "name": "Untitled.ipynb"
 },
 "nbformat": 4,
 "nbformat_minor": 5
}
