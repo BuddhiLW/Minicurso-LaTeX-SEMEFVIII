{
 "cells": [
  {
   "cell_type": "code",
   "execution_count": null,
   "id": "9d90b6e4",
   "metadata": {
    "collapsed": false
   },
   "outputs": [],
   "source": []
  }
 ],
 "metadata": {
  "kernelspec": {
   "argv": [
    "/usr/bin/julia",
    "-i",
    "--color=yes",
    "--project=@.",
    "/home/buddhilw/.julia/packages/IJulia/e8kqU/src/kernel.jl",
    "{connection_file}"
   ],
   "display_name": "Julia 1.6.2",
   "env": null,
   "interrupt_mode": "signal",
   "language": "julia",
   "metadata": null,
   "name": "julia-1.6"
  },
  "name": "Untitled.ipynb"
 },
 "nbformat": 4,
 "nbformat_minor": 5
}
